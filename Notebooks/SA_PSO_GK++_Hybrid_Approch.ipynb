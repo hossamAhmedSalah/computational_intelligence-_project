{
  "nbformat": 4,
  "nbformat_minor": 0,
  "metadata": {
    "colab": {
      "provenance": []
    },
    "kernelspec": {
      "name": "python3",
      "display_name": "Python 3"
    },
    "language_info": {
      "name": "python"
    }
  },
  "cells": [
    {
      "cell_type": "markdown",
      "source": [
        "**Loading Dataset: (utomobile-customer-segmentation)**"
      ],
      "metadata": {
        "id": "P-e_tEgVdssJ"
      }
    },
    {
      "cell_type": "code",
      "execution_count": null,
      "metadata": {
        "id": "smhvGbfpmGab"
      },
      "outputs": [],
      "source": [
        "import pandas as pd\n",
        "df = pd.read_csv('/content/train_processed_data.csv')"
      ]
    },
    {
      "cell_type": "code",
      "source": [
        "df.head()"
      ],
      "metadata": {
        "colab": {
          "base_uri": "https://localhost:8080/",
          "height": 206
        },
        "id": "Re1R_IA6o6cN",
        "outputId": "e120b80d-480a-445b-c7b6-6e3dd2cdc7b2"
      },
      "execution_count": null,
      "outputs": [
        {
          "output_type": "execute_result",
          "data": {
            "text/plain": [
              "        Age  Work_Experience  Family_Size  Gender  Ever_Married  Graduated  \\\n",
              "0 -1.284623        -0.499892     0.757947       1             0          0   \n",
              "1 -0.327151         0.537954     0.096095       0             1          1   \n",
              "2  1.408268        -0.499892    -1.227610       0             1          1   \n",
              "3  1.408268        -0.805141    -0.565758       1             1          1   \n",
              "4 -0.207467         1.453700     2.081652       0             1          1   \n",
              "\n",
              "   Profession  Spending_Score  Var_1  Segmentation  \n",
              "0           5               2      3             3  \n",
              "1           2               0      3             0  \n",
              "2           2               2      5             1  \n",
              "3           7               1      5             1  \n",
              "4           3               1      5             0  "
            ],
            "text/html": [
              "\n",
              "  <div id=\"df-2c2611f0-0d94-42d7-9c21-c116dff0c95d\" class=\"colab-df-container\">\n",
              "    <div>\n",
              "<style scoped>\n",
              "    .dataframe tbody tr th:only-of-type {\n",
              "        vertical-align: middle;\n",
              "    }\n",
              "\n",
              "    .dataframe tbody tr th {\n",
              "        vertical-align: top;\n",
              "    }\n",
              "\n",
              "    .dataframe thead th {\n",
              "        text-align: right;\n",
              "    }\n",
              "</style>\n",
              "<table border=\"1\" class=\"dataframe\">\n",
              "  <thead>\n",
              "    <tr style=\"text-align: right;\">\n",
              "      <th></th>\n",
              "      <th>Age</th>\n",
              "      <th>Work_Experience</th>\n",
              "      <th>Family_Size</th>\n",
              "      <th>Gender</th>\n",
              "      <th>Ever_Married</th>\n",
              "      <th>Graduated</th>\n",
              "      <th>Profession</th>\n",
              "      <th>Spending_Score</th>\n",
              "      <th>Var_1</th>\n",
              "      <th>Segmentation</th>\n",
              "    </tr>\n",
              "  </thead>\n",
              "  <tbody>\n",
              "    <tr>\n",
              "      <th>0</th>\n",
              "      <td>-1.284623</td>\n",
              "      <td>-0.499892</td>\n",
              "      <td>0.757947</td>\n",
              "      <td>1</td>\n",
              "      <td>0</td>\n",
              "      <td>0</td>\n",
              "      <td>5</td>\n",
              "      <td>2</td>\n",
              "      <td>3</td>\n",
              "      <td>3</td>\n",
              "    </tr>\n",
              "    <tr>\n",
              "      <th>1</th>\n",
              "      <td>-0.327151</td>\n",
              "      <td>0.537954</td>\n",
              "      <td>0.096095</td>\n",
              "      <td>0</td>\n",
              "      <td>1</td>\n",
              "      <td>1</td>\n",
              "      <td>2</td>\n",
              "      <td>0</td>\n",
              "      <td>3</td>\n",
              "      <td>0</td>\n",
              "    </tr>\n",
              "    <tr>\n",
              "      <th>2</th>\n",
              "      <td>1.408268</td>\n",
              "      <td>-0.499892</td>\n",
              "      <td>-1.227610</td>\n",
              "      <td>0</td>\n",
              "      <td>1</td>\n",
              "      <td>1</td>\n",
              "      <td>2</td>\n",
              "      <td>2</td>\n",
              "      <td>5</td>\n",
              "      <td>1</td>\n",
              "    </tr>\n",
              "    <tr>\n",
              "      <th>3</th>\n",
              "      <td>1.408268</td>\n",
              "      <td>-0.805141</td>\n",
              "      <td>-0.565758</td>\n",
              "      <td>1</td>\n",
              "      <td>1</td>\n",
              "      <td>1</td>\n",
              "      <td>7</td>\n",
              "      <td>1</td>\n",
              "      <td>5</td>\n",
              "      <td>1</td>\n",
              "    </tr>\n",
              "    <tr>\n",
              "      <th>4</th>\n",
              "      <td>-0.207467</td>\n",
              "      <td>1.453700</td>\n",
              "      <td>2.081652</td>\n",
              "      <td>0</td>\n",
              "      <td>1</td>\n",
              "      <td>1</td>\n",
              "      <td>3</td>\n",
              "      <td>1</td>\n",
              "      <td>5</td>\n",
              "      <td>0</td>\n",
              "    </tr>\n",
              "  </tbody>\n",
              "</table>\n",
              "</div>\n",
              "    <div class=\"colab-df-buttons\">\n",
              "\n",
              "  <div class=\"colab-df-container\">\n",
              "    <button class=\"colab-df-convert\" onclick=\"convertToInteractive('df-2c2611f0-0d94-42d7-9c21-c116dff0c95d')\"\n",
              "            title=\"Convert this dataframe to an interactive table.\"\n",
              "            style=\"display:none;\">\n",
              "\n",
              "  <svg xmlns=\"http://www.w3.org/2000/svg\" height=\"24px\" viewBox=\"0 -960 960 960\">\n",
              "    <path d=\"M120-120v-720h720v720H120Zm60-500h600v-160H180v160Zm220 220h160v-160H400v160Zm0 220h160v-160H400v160ZM180-400h160v-160H180v160Zm440 0h160v-160H620v160ZM180-180h160v-160H180v160Zm440 0h160v-160H620v160Z\"/>\n",
              "  </svg>\n",
              "    </button>\n",
              "\n",
              "  <style>\n",
              "    .colab-df-container {\n",
              "      display:flex;\n",
              "      gap: 12px;\n",
              "    }\n",
              "\n",
              "    .colab-df-convert {\n",
              "      background-color: #E8F0FE;\n",
              "      border: none;\n",
              "      border-radius: 50%;\n",
              "      cursor: pointer;\n",
              "      display: none;\n",
              "      fill: #1967D2;\n",
              "      height: 32px;\n",
              "      padding: 0 0 0 0;\n",
              "      width: 32px;\n",
              "    }\n",
              "\n",
              "    .colab-df-convert:hover {\n",
              "      background-color: #E2EBFA;\n",
              "      box-shadow: 0px 1px 2px rgba(60, 64, 67, 0.3), 0px 1px 3px 1px rgba(60, 64, 67, 0.15);\n",
              "      fill: #174EA6;\n",
              "    }\n",
              "\n",
              "    .colab-df-buttons div {\n",
              "      margin-bottom: 4px;\n",
              "    }\n",
              "\n",
              "    [theme=dark] .colab-df-convert {\n",
              "      background-color: #3B4455;\n",
              "      fill: #D2E3FC;\n",
              "    }\n",
              "\n",
              "    [theme=dark] .colab-df-convert:hover {\n",
              "      background-color: #434B5C;\n",
              "      box-shadow: 0px 1px 3px 1px rgba(0, 0, 0, 0.15);\n",
              "      filter: drop-shadow(0px 1px 2px rgba(0, 0, 0, 0.3));\n",
              "      fill: #FFFFFF;\n",
              "    }\n",
              "  </style>\n",
              "\n",
              "    <script>\n",
              "      const buttonEl =\n",
              "        document.querySelector('#df-2c2611f0-0d94-42d7-9c21-c116dff0c95d button.colab-df-convert');\n",
              "      buttonEl.style.display =\n",
              "        google.colab.kernel.accessAllowed ? 'block' : 'none';\n",
              "\n",
              "      async function convertToInteractive(key) {\n",
              "        const element = document.querySelector('#df-2c2611f0-0d94-42d7-9c21-c116dff0c95d');\n",
              "        const dataTable =\n",
              "          await google.colab.kernel.invokeFunction('convertToInteractive',\n",
              "                                                    [key], {});\n",
              "        if (!dataTable) return;\n",
              "\n",
              "        const docLinkHtml = 'Like what you see? Visit the ' +\n",
              "          '<a target=\"_blank\" href=https://colab.research.google.com/notebooks/data_table.ipynb>data table notebook</a>'\n",
              "          + ' to learn more about interactive tables.';\n",
              "        element.innerHTML = '';\n",
              "        dataTable['output_type'] = 'display_data';\n",
              "        await google.colab.output.renderOutput(dataTable, element);\n",
              "        const docLink = document.createElement('div');\n",
              "        docLink.innerHTML = docLinkHtml;\n",
              "        element.appendChild(docLink);\n",
              "      }\n",
              "    </script>\n",
              "  </div>\n",
              "\n",
              "\n",
              "    <div id=\"df-1236f50e-0605-4e2c-bcb8-1ddcc3ef4f8f\">\n",
              "      <button class=\"colab-df-quickchart\" onclick=\"quickchart('df-1236f50e-0605-4e2c-bcb8-1ddcc3ef4f8f')\"\n",
              "                title=\"Suggest charts\"\n",
              "                style=\"display:none;\">\n",
              "\n",
              "<svg xmlns=\"http://www.w3.org/2000/svg\" height=\"24px\"viewBox=\"0 0 24 24\"\n",
              "     width=\"24px\">\n",
              "    <g>\n",
              "        <path d=\"M19 3H5c-1.1 0-2 .9-2 2v14c0 1.1.9 2 2 2h14c1.1 0 2-.9 2-2V5c0-1.1-.9-2-2-2zM9 17H7v-7h2v7zm4 0h-2V7h2v10zm4 0h-2v-4h2v4z\"/>\n",
              "    </g>\n",
              "</svg>\n",
              "      </button>\n",
              "\n",
              "<style>\n",
              "  .colab-df-quickchart {\n",
              "      --bg-color: #E8F0FE;\n",
              "      --fill-color: #1967D2;\n",
              "      --hover-bg-color: #E2EBFA;\n",
              "      --hover-fill-color: #174EA6;\n",
              "      --disabled-fill-color: #AAA;\n",
              "      --disabled-bg-color: #DDD;\n",
              "  }\n",
              "\n",
              "  [theme=dark] .colab-df-quickchart {\n",
              "      --bg-color: #3B4455;\n",
              "      --fill-color: #D2E3FC;\n",
              "      --hover-bg-color: #434B5C;\n",
              "      --hover-fill-color: #FFFFFF;\n",
              "      --disabled-bg-color: #3B4455;\n",
              "      --disabled-fill-color: #666;\n",
              "  }\n",
              "\n",
              "  .colab-df-quickchart {\n",
              "    background-color: var(--bg-color);\n",
              "    border: none;\n",
              "    border-radius: 50%;\n",
              "    cursor: pointer;\n",
              "    display: none;\n",
              "    fill: var(--fill-color);\n",
              "    height: 32px;\n",
              "    padding: 0;\n",
              "    width: 32px;\n",
              "  }\n",
              "\n",
              "  .colab-df-quickchart:hover {\n",
              "    background-color: var(--hover-bg-color);\n",
              "    box-shadow: 0 1px 2px rgba(60, 64, 67, 0.3), 0 1px 3px 1px rgba(60, 64, 67, 0.15);\n",
              "    fill: var(--button-hover-fill-color);\n",
              "  }\n",
              "\n",
              "  .colab-df-quickchart-complete:disabled,\n",
              "  .colab-df-quickchart-complete:disabled:hover {\n",
              "    background-color: var(--disabled-bg-color);\n",
              "    fill: var(--disabled-fill-color);\n",
              "    box-shadow: none;\n",
              "  }\n",
              "\n",
              "  .colab-df-spinner {\n",
              "    border: 2px solid var(--fill-color);\n",
              "    border-color: transparent;\n",
              "    border-bottom-color: var(--fill-color);\n",
              "    animation:\n",
              "      spin 1s steps(1) infinite;\n",
              "  }\n",
              "\n",
              "  @keyframes spin {\n",
              "    0% {\n",
              "      border-color: transparent;\n",
              "      border-bottom-color: var(--fill-color);\n",
              "      border-left-color: var(--fill-color);\n",
              "    }\n",
              "    20% {\n",
              "      border-color: transparent;\n",
              "      border-left-color: var(--fill-color);\n",
              "      border-top-color: var(--fill-color);\n",
              "    }\n",
              "    30% {\n",
              "      border-color: transparent;\n",
              "      border-left-color: var(--fill-color);\n",
              "      border-top-color: var(--fill-color);\n",
              "      border-right-color: var(--fill-color);\n",
              "    }\n",
              "    40% {\n",
              "      border-color: transparent;\n",
              "      border-right-color: var(--fill-color);\n",
              "      border-top-color: var(--fill-color);\n",
              "    }\n",
              "    60% {\n",
              "      border-color: transparent;\n",
              "      border-right-color: var(--fill-color);\n",
              "    }\n",
              "    80% {\n",
              "      border-color: transparent;\n",
              "      border-right-color: var(--fill-color);\n",
              "      border-bottom-color: var(--fill-color);\n",
              "    }\n",
              "    90% {\n",
              "      border-color: transparent;\n",
              "      border-bottom-color: var(--fill-color);\n",
              "    }\n",
              "  }\n",
              "</style>\n",
              "\n",
              "      <script>\n",
              "        async function quickchart(key) {\n",
              "          const quickchartButtonEl =\n",
              "            document.querySelector('#' + key + ' button');\n",
              "          quickchartButtonEl.disabled = true;  // To prevent multiple clicks.\n",
              "          quickchartButtonEl.classList.add('colab-df-spinner');\n",
              "          try {\n",
              "            const charts = await google.colab.kernel.invokeFunction(\n",
              "                'suggestCharts', [key], {});\n",
              "          } catch (error) {\n",
              "            console.error('Error during call to suggestCharts:', error);\n",
              "          }\n",
              "          quickchartButtonEl.classList.remove('colab-df-spinner');\n",
              "          quickchartButtonEl.classList.add('colab-df-quickchart-complete');\n",
              "        }\n",
              "        (() => {\n",
              "          let quickchartButtonEl =\n",
              "            document.querySelector('#df-1236f50e-0605-4e2c-bcb8-1ddcc3ef4f8f button');\n",
              "          quickchartButtonEl.style.display =\n",
              "            google.colab.kernel.accessAllowed ? 'block' : 'none';\n",
              "        })();\n",
              "      </script>\n",
              "    </div>\n",
              "\n",
              "    </div>\n",
              "  </div>\n"
            ],
            "application/vnd.google.colaboratory.intrinsic+json": {
              "type": "dataframe",
              "variable_name": "df",
              "summary": "{\n  \"name\": \"df\",\n  \"rows\": 8068,\n  \"fields\": [\n    {\n      \"column\": \"Age\",\n      \"properties\": {\n        \"dtype\": \"number\",\n        \"std\": 1.000061978989179,\n        \"min\": -1.5239915939029416,\n        \"max\": 2.7247931586472696,\n        \"num_unique_values\": 67,\n        \"samples\": [\n          -0.8058871286831876,\n          0.3311116079147563,\n          0.7500058792929462\n        ],\n        \"semantic_type\": \"\",\n        \"description\": \"\"\n      }\n    },\n    {\n      \"column\": \"Work_Experience\",\n      \"properties\": {\n        \"dtype\": \"number\",\n        \"std\": 1.0000619789891616,\n        \"min\": -0.8051410473038871,\n        \"max\": 3.4683423871419774,\n        \"num_unique_values\": 45,\n        \"samples\": [\n          0.2937546929821923,\n          -0.316742940510074,\n          0.3548044563314189\n        ],\n        \"semantic_type\": \"\",\n        \"description\": \"\"\n      }\n    },\n    {\n      \"column\": \"Family_Size\",\n      \"properties\": {\n        \"dtype\": \"number\",\n        \"std\": 1.0000619789892105,\n        \"min\": -1.227610012464218,\n        \"max\": 4.067209805271672,\n        \"num_unique_values\": 27,\n        \"samples\": [\n          -0.0362755534736429,\n          -0.3010165443604373,\n          2.743504850837699\n        ],\n        \"semantic_type\": \"\",\n        \"description\": \"\"\n      }\n    },\n    {\n      \"column\": \"Gender\",\n      \"properties\": {\n        \"dtype\": \"number\",\n        \"std\": 0,\n        \"min\": 0,\n        \"max\": 1,\n        \"num_unique_values\": 2,\n        \"samples\": [\n          0,\n          1\n        ],\n        \"semantic_type\": \"\",\n        \"description\": \"\"\n      }\n    },\n    {\n      \"column\": \"Ever_Married\",\n      \"properties\": {\n        \"dtype\": \"number\",\n        \"std\": 0,\n        \"min\": 0,\n        \"max\": 1,\n        \"num_unique_values\": 2,\n        \"samples\": [\n          1,\n          0\n        ],\n        \"semantic_type\": \"\",\n        \"description\": \"\"\n      }\n    },\n    {\n      \"column\": \"Graduated\",\n      \"properties\": {\n        \"dtype\": \"number\",\n        \"std\": 0,\n        \"min\": 0,\n        \"max\": 1,\n        \"num_unique_values\": 2,\n        \"samples\": [\n          1,\n          0\n        ],\n        \"semantic_type\": \"\",\n        \"description\": \"\"\n      }\n    },\n    {\n      \"column\": \"Profession\",\n      \"properties\": {\n        \"dtype\": \"number\",\n        \"std\": 2,\n        \"min\": 0,\n        \"max\": 8,\n        \"num_unique_values\": 9,\n        \"samples\": [\n          6,\n          2\n        ],\n        \"semantic_type\": \"\",\n        \"description\": \"\"\n      }\n    },\n    {\n      \"column\": \"Spending_Score\",\n      \"properties\": {\n        \"dtype\": \"number\",\n        \"std\": 0,\n        \"min\": 0,\n        \"max\": 2,\n        \"num_unique_values\": 3,\n        \"samples\": [\n          2,\n          0\n        ],\n        \"semantic_type\": \"\",\n        \"description\": \"\"\n      }\n    },\n    {\n      \"column\": \"Var_1\",\n      \"properties\": {\n        \"dtype\": \"number\",\n        \"std\": 1,\n        \"min\": 0,\n        \"max\": 6,\n        \"num_unique_values\": 7,\n        \"samples\": [\n          3,\n          5\n        ],\n        \"semantic_type\": \"\",\n        \"description\": \"\"\n      }\n    },\n    {\n      \"column\": \"Segmentation\",\n      \"properties\": {\n        \"dtype\": \"number\",\n        \"std\": 1,\n        \"min\": 0,\n        \"max\": 3,\n        \"num_unique_values\": 4,\n        \"samples\": [\n          0,\n          2\n        ],\n        \"semantic_type\": \"\",\n        \"description\": \"\"\n      }\n    }\n  ]\n}"
            }
          },
          "metadata": {},
          "execution_count": 62
        }
      ]
    },
    {
      "cell_type": "code",
      "source": [
        "y=df['Segmentation']\n",
        "X = df.drop(columns=['Segmentation'])"
      ],
      "metadata": {
        "id": "UujtUAn_zPzg"
      },
      "execution_count": null,
      "outputs": []
    },
    {
      "cell_type": "code",
      "source": [
        "X = np.array(X)"
      ],
      "metadata": {
        "id": "qm66ys8Neqi-"
      },
      "execution_count": null,
      "outputs": []
    },
    {
      "cell_type": "markdown",
      "source": [
        "### **SA-PSO-GK++ Approch**"
      ],
      "metadata": {
        "id": "61N1cU0ZfQgq"
      }
    },
    {
      "cell_type": "code",
      "source": [
        "import numpy as np\n",
        "import pandas as pd\n",
        "from sklearn.preprocessing import StandardScaler\n",
        "from sklearn.metrics import pairwise_distances_argmin_min, silhouette_score,calinski_harabasz_score\n",
        "\n",
        "\n",
        "# === K-means++ SSE fitness function ===\n",
        "def kmeans_sse(X, centroids):\n",
        "    labels, _ = pairwise_distances_argmin_min(X, centroids)\n",
        "    sse = sum(np.sum((X[labels == k] - centroids[k]) ** 2) for k in range(len(centroids)))\n",
        "    return sse, labels\n",
        "\n",
        "# === Gaussian Estimation of Distribution (GED) ===\n",
        "def sample_from_ged(particles, K, n_features):\n",
        "    flat_particles = np.array([p.flatten() for p in particles])  # shape (N, K*n_features)\n",
        "    mean = np.mean(flat_particles, axis=0)\n",
        "    std = np.std(flat_particles, axis=0) + 1e-6  # avoid zero std\n",
        "    new_sample_flat = np.random.normal(loc=mean, scale=std)\n",
        "    return new_sample_flat.reshape(K, n_features)\n",
        "\n",
        "# === SA-PSO-GK++ Algorithm with dynamic inertia weight ===\n",
        "def sa_pso_gkpp(X, K=4, N=50, max_iterations=100,\n",
        "                w_max=0.9, w_min=0.5,\n",
        "                c1=1.49, c2=1.49, T=100, alpha=0.95,seed=41):\n",
        "    n_samples, n_features = X.shape\n",
        "\n",
        "\n",
        "    kmeans = KMeans(n_clusters=K, init='k-means++', n_init=10,random_state=seed)\n",
        "    kmeans.fit(X)\n",
        "    centroids = kmeans.cluster_centers_\n",
        "\n",
        "    particles = [np.copy(centroids) for _ in range(N)]  # Initialize particles with KMeans++ centroids\n",
        "    velocities = [np.zeros((K, n_features)) for _ in range(N)]\n",
        "\n",
        "    particle_best = [np.copy(p) for p in particles]\n",
        "    particle_best_fitness = [kmeans_sse(X, p)[0] for p in particles]\n",
        "\n",
        "    # === Initialize global best ===\n",
        "    global_best_index = np.argmin(particle_best_fitness)\n",
        "    global_best = np.copy(particle_best[global_best_index])\n",
        "    global_best_fitness = particle_best_fitness[global_best_index]\n",
        "\n",
        "    for iteration in range(max_iterations):\n",
        "        # Compute dynamic inertia weight\n",
        "        w = w_max - ((w_max - w_min) * iteration / max_iterations)\n",
        "\n",
        "        for i in range(N):\n",
        "            current = particles[i]\n",
        "            f_current, _ = kmeans_sse(X, current)\n",
        "\n",
        "            # Update personal best\n",
        "            if f_current < particle_best_fitness[i]:\n",
        "                particle_best[i] = np.copy(current)\n",
        "                particle_best_fitness[i] = f_current\n",
        "\n",
        "            # Update global best\n",
        "            if f_current < global_best_fitness:\n",
        "                global_best = np.copy(current)\n",
        "                global_best_fitness = f_current\n",
        "\n",
        "            # Update velocity\n",
        "            cognitive = c1 * np.random.rand() * (particle_best[i] - current)\n",
        "            social = c2 * np.random.rand() * (global_best - current)\n",
        "            velocities[i] = w * velocities[i] + cognitive + social\n",
        "\n",
        "            # Update position using velocity\n",
        "            new_position = current + velocities[i]\n",
        "\n",
        "            # === GED: Gaussian Estimation of Distribution ===\n",
        "            ged_position = sample_from_ged(particles, K, n_features)\n",
        "\n",
        "            # Apply Simulated Annealing acceptance criterion\n",
        "            f_ged, _ = kmeans_sse(X, ged_position)\n",
        "            delta_f = f_ged - f_current\n",
        "\n",
        "            if delta_f < 0 or np.random.rand() < np.exp(-delta_f / T):\n",
        "                particles[i] = ged_position  # Accept new GED-sampled position\n",
        "            else:\n",
        "                particles[i] = new_position  # Accept updated velocity position\n",
        "\n",
        "        T *= alpha  # Cool down temperature\n",
        "\n",
        "    _, final_labels = kmeans_sse(X, global_best)\n",
        "    return global_best, global_best_fitness, final_labels\n"
      ],
      "metadata": {
        "id": "pRX21mfCc97t"
      },
      "execution_count": null,
      "outputs": []
    },
    {
      "cell_type": "markdown",
      "source": [
        "**Run Algorithm for 100 iteration with number of particles 50 with  default (seed=41)**"
      ],
      "metadata": {
        "id": "2bUuSdxYfY1c"
      }
    },
    {
      "cell_type": "code",
      "source": [
        "best_centroids, best_sse, predicted_labels = sa_pso_gkpp(\n",
        "    X,\n",
        "    K=y.nunique(),\n",
        "    N=50,\n",
        "    max_iterations=100,\n",
        "    w_max=0.9,\n",
        "    w_min=0.5,\n",
        "    c1=1.49,\n",
        "    c2=1.49,\n",
        "    T=100,\n",
        "    alpha=0.95\n",
        ")\n",
        "\n",
        "\n",
        "# Evaluate the result\n",
        "print(\"(INteria) Best SSE:\", best_sse)\n",
        "print(\"Silhouette Score:\", silhouette_score(X, predicted_labels))\n",
        "sa_ch_score = calinski_harabasz_score(X, predicted_labels)\n",
        "print(\"Calinski-Harabasz Score (SA-PSO-GK++):\", sa_ch_score)\n"
      ],
      "metadata": {
        "colab": {
          "base_uri": "https://localhost:8080/"
        },
        "id": "cznBPNNqc9--",
        "outputId": "534021c6-abe9-4234-9b04-e3684f0a13c0"
      },
      "execution_count": null,
      "outputs": [
        {
          "output_type": "stream",
          "name": "stdout",
          "text": [
            "(INteria) Best SSE: 47030.616148285\n",
            "Silhouette Score: 0.25772258536776227\n",
            "Calinski-Harabasz Score (SA-PSO-GK++): 3267.7037926877415\n"
          ]
        }
      ]
    },
    {
      "cell_type": "markdown",
      "source": [
        "**Runing 30 times with Different Random seeds**"
      ],
      "metadata": {
        "id": "EdMViff-gJEi"
      }
    },
    {
      "cell_type": "code",
      "source": [
        "interia = {1:[],2:[],3:[],4:[],5:[],6:[],7:[],8:[],9:[],10:[]}\n",
        "sil_score = {1:[],2:[],3:[],4:[],5:[],6:[],7:[],8:[],9:[],10:[]}\n",
        "sa_ch_score = {1:[],2:[],3:[],4:[],5:[],6:[],7:[],8:[],9:[],10:[]}"
      ],
      "metadata": {
        "id": "b9JZj2KO2SM0"
      },
      "execution_count": null,
      "outputs": []
    },
    {
      "cell_type": "code",
      "source": [
        "seeds= list(range(1,31))\n",
        "\n",
        "for k in range(2,11,1):\n",
        "  for i in range(30) :\n",
        "        best_centroids, best_sse, predicted_labels = sa_pso_gkpp(\n",
        "                        X,\n",
        "                        K=k,\n",
        "                        N=10,\n",
        "                        max_iterations=100,\n",
        "                        w_max=0.9,\n",
        "                        w_min=0.5,\n",
        "                        c1=1.49,\n",
        "                        c2=1.49,\n",
        "                        T=100,\n",
        "                        alpha=0.95,\n",
        "                        seed=seeds[i]\n",
        "                    )\n",
        "        # Evaluate the result\n",
        "        interia[k].append(best_sse)\n",
        "        sil_score[k].append(silhouette_score(X, predicted_labels))\n",
        "        sa_ch_score[k].append(calinski_harabasz_score(X, predicted_labels))\n",
        "\n",
        "\n"
      ],
      "metadata": {
        "id": "r49IyJ3S2o01"
      },
      "execution_count": null,
      "outputs": []
    },
    {
      "cell_type": "markdown",
      "source": [
        "**Validating Run variables**"
      ],
      "metadata": {
        "id": "41a9ovZGhhsB"
      }
    },
    {
      "cell_type": "code",
      "source": [
        "np.mean(interia[2])"
      ],
      "metadata": {
        "colab": {
          "base_uri": "https://localhost:8080/"
        },
        "id": "iEM5ykXME413",
        "outputId": "270cda86-0e73-4341-956a-7bfadc82bba6"
      },
      "execution_count": null,
      "outputs": [
        {
          "output_type": "execute_result",
          "data": {
            "text/plain": [
              "np.float64(58011.99222669648)"
            ]
          },
          "metadata": {},
          "execution_count": 36
        }
      ]
    },
    {
      "cell_type": "code",
      "source": [
        "len(interia[10])"
      ],
      "metadata": {
        "colab": {
          "base_uri": "https://localhost:8080/"
        },
        "id": "istp8qTQF8Y2",
        "outputId": "b59128ce-a4dd-408e-dab7-b0955a7bdbd0"
      },
      "execution_count": null,
      "outputs": [
        {
          "output_type": "execute_result",
          "data": {
            "text/plain": [
              "30"
            ]
          },
          "metadata": {},
          "execution_count": 37
        }
      ]
    },
    {
      "cell_type": "markdown",
      "source": [
        "**Ploting inertia (SSE) over different number of clusters**"
      ],
      "metadata": {
        "id": "dOjKmrJoiZSq"
      }
    },
    {
      "cell_type": "code",
      "source": [
        "import matplotlib.pyplot as plt\n",
        "from sklearn.cluster import KMeans\n",
        "import numpy as np\n",
        "\n",
        "\n",
        "inertias = []\n",
        "K_range = range(2, 11)  # Try K from 1 to 10\n",
        "\n",
        "for k in K_range:\n",
        "    inertias.append(np.mean(interia[k]))\n",
        "\n",
        "# Plotting\n",
        "plt.figure(figsize=(8, 5))\n",
        "plt.plot(K_range, inertias, marker='o')\n",
        "plt.title('Elbow Method for Optimal K')\n",
        "plt.xlabel('Number of Clusters (k)')\n",
        "plt.ylabel('Inertia (Within-cluster SSE)')\n",
        "plt.grid(True)\n",
        "plt.show()\n"
      ],
      "metadata": {
        "colab": {
          "base_uri": "https://localhost:8080/",
          "height": 487
        },
        "id": "Yz3fu5DDFune",
        "outputId": "1471133a-7266-46b4-8a79-3d1e898fbdf9"
      },
      "execution_count": null,
      "outputs": [
        {
          "output_type": "display_data",
          "data": {
            "text/plain": [
              "<Figure size 800x500 with 1 Axes>"
            ],
            "image/png": "[encoded data removed]"
          },
          "metadata": {}
        }
      ]
    },
    {
      "cell_type": "markdown",
      "source": [
        "**loading Dataset: (mall-customer-segmentation)**"
      ],
      "metadata": {
        "id": "JMZ-JjPXi-iR"
      }
    },
    {
      "cell_type": "code",
      "source": [
        "import pandas as pd\n",
        "df = pd.read_csv('/content/processed_data.csv')\n",
        "df.head()"
      ],
      "metadata": {
        "colab": {
          "base_uri": "https://localhost:8080/",
          "height": 206
        },
        "id": "ks_jq7qtSS_1",
        "outputId": "b30b949a-75b5-4a30-88a4-56028d626b15"
      },
      "execution_count": null,
      "outputs": [
        {
          "output_type": "execute_result",
          "data": {
            "text/plain": [
              "        Age  Annual Income (k$)  Spending Score (1-100)  Gender\n",
              "0 -1.424569           -1.738999               -0.434801       1\n",
              "1 -1.281035           -1.738999                1.195704       1\n",
              "2 -1.352802           -1.700830               -1.715913       0\n",
              "3 -1.137502           -1.700830                1.040418       0\n",
              "4 -0.563369           -1.662660               -0.395980       0"
            ],
            "text/html": [
              "\n",
              "  <div id=\"df-3228cd38-9496-4617-86be-fce2163ab637\" class=\"colab-df-container\">\n",
              "    <div>\n",
              "<style scoped>\n",
              "    .dataframe tbody tr th:only-of-type {\n",
              "        vertical-align: middle;\n",
              "    }\n",
              "\n",
              "    .dataframe tbody tr th {\n",
              "        vertical-align: top;\n",
              "    }\n",
              "\n",
              "    .dataframe thead th {\n",
              "        text-align: right;\n",
              "    }\n",
              "</style>\n",
              "<table border=\"1\" class=\"dataframe\">\n",
              "  <thead>\n",
              "    <tr style=\"text-align: right;\">\n",
              "      <th></th>\n",
              "      <th>Age</th>\n",
              "      <th>Annual Income (k$)</th>\n",
              "      <th>Spending Score (1-100)</th>\n",
              "      <th>Gender</th>\n",
              "    </tr>\n",
              "  </thead>\n",
              "  <tbody>\n",
              "    <tr>\n",
              "      <th>0</th>\n",
              "      <td>-1.424569</td>\n",
              "      <td>-1.738999</td>\n",
              "      <td>-0.434801</td>\n",
              "      <td>1</td>\n",
              "    </tr>\n",
              "    <tr>\n",
              "      <th>1</th>\n",
              "      <td>-1.281035</td>\n",
              "      <td>-1.738999</td>\n",
              "      <td>1.195704</td>\n",
              "      <td>1</td>\n",
              "    </tr>\n",
              "    <tr>\n",
              "      <th>2</th>\n",
              "      <td>-1.352802</td>\n",
              "      <td>-1.700830</td>\n",
              "      <td>-1.715913</td>\n",
              "      <td>0</td>\n",
              "    </tr>\n",
              "    <tr>\n",
              "      <th>3</th>\n",
              "      <td>-1.137502</td>\n",
              "      <td>-1.700830</td>\n",
              "      <td>1.040418</td>\n",
              "      <td>0</td>\n",
              "    </tr>\n",
              "    <tr>\n",
              "      <th>4</th>\n",
              "      <td>-0.563369</td>\n",
              "      <td>-1.662660</td>\n",
              "      <td>-0.395980</td>\n",
              "      <td>0</td>\n",
              "    </tr>\n",
              "  </tbody>\n",
              "</table>\n",
              "</div>\n",
              "    <div class=\"colab-df-buttons\">\n",
              "\n",
              "  <div class=\"colab-df-container\">\n",
              "    <button class=\"colab-df-convert\" onclick=\"convertToInteractive('df-3228cd38-9496-4617-86be-fce2163ab637')\"\n",
              "            title=\"Convert this dataframe to an interactive table.\"\n",
              "            style=\"display:none;\">\n",
              "\n",
              "  <svg xmlns=\"http://www.w3.org/2000/svg\" height=\"24px\" viewBox=\"0 -960 960 960\">\n",
              "    <path d=\"M120-120v-720h720v720H120Zm60-500h600v-160H180v160Zm220 220h160v-160H400v160Zm0 220h160v-160H400v160ZM180-400h160v-160H180v160Zm440 0h160v-160H620v160ZM180-180h160v-160H180v160Zm440 0h160v-160H620v160Z\"/>\n",
              "  </svg>\n",
              "    </button>\n",
              "\n",
              "  <style>\n",
              "    .colab-df-container {\n",
              "      display:flex;\n",
              "      gap: 12px;\n",
              "    }\n",
              "\n",
              "    .colab-df-convert {\n",
              "      background-color: #E8F0FE;\n",
              "      border: none;\n",
              "      border-radius: 50%;\n",
              "      cursor: pointer;\n",
              "      display: none;\n",
              "      fill: #1967D2;\n",
              "      height: 32px;\n",
              "      padding: 0 0 0 0;\n",
              "      width: 32px;\n",
              "    }\n",
              "\n",
              "    .colab-df-convert:hover {\n",
              "      background-color: #E2EBFA;\n",
              "      box-shadow: 0px 1px 2px rgba(60, 64, 67, 0.3), 0px 1px 3px 1px rgba(60, 64, 67, 0.15);\n",
              "      fill: #174EA6;\n",
              "    }\n",
              "\n",
              "    .colab-df-buttons div {\n",
              "      margin-bottom: 4px;\n",
              "    }\n",
              "\n",
              "    [theme=dark] .colab-df-convert {\n",
              "      background-color: #3B4455;\n",
              "      fill: #D2E3FC;\n",
              "    }\n",
              "\n",
              "    [theme=dark] .colab-df-convert:hover {\n",
              "      background-color: #434B5C;\n",
              "      box-shadow: 0px 1px 3px 1px rgba(0, 0, 0, 0.15);\n",
              "      filter: drop-shadow(0px 1px 2px rgba(0, 0, 0, 0.3));\n",
              "      fill: #FFFFFF;\n",
              "    }\n",
              "  </style>\n",
              "\n",
              "    <script>\n",
              "      const buttonEl =\n",
              "        document.querySelector('#df-3228cd38-9496-4617-86be-fce2163ab637 button.colab-df-convert');\n",
              "      buttonEl.style.display =\n",
              "        google.colab.kernel.accessAllowed ? 'block' : 'none';\n",
              "\n",
              "      async function convertToInteractive(key) {\n",
              "        const element = document.querySelector('#df-3228cd38-9496-4617-86be-fce2163ab637');\n",
              "        const dataTable =\n",
              "          await google.colab.kernel.invokeFunction('convertToInteractive',\n",
              "                                                    [key], {});\n",
              "        if (!dataTable) return;\n",
              "\n",
              "        const docLinkHtml = 'Like what you see? Visit the ' +\n",
              "          '<a target=\"_blank\" href=https://colab.research.google.com/notebooks/data_table.ipynb>data table notebook</a>'\n",
              "          + ' to learn more about interactive tables.';\n",
              "        element.innerHTML = '';\n",
              "        dataTable['output_type'] = 'display_data';\n",
              "        await google.colab.output.renderOutput(dataTable, element);\n",
              "        const docLink = document.createElement('div');\n",
              "        docLink.innerHTML = docLinkHtml;\n",
              "        element.appendChild(docLink);\n",
              "      }\n",
              "    </script>\n",
              "  </div>\n",
              "\n",
              "\n",
              "    <div id=\"df-47d71bae-7251-4e13-bfb9-05a31c7f4086\">\n",
              "      <button class=\"colab-df-quickchart\" onclick=\"quickchart('df-47d71bae-7251-4e13-bfb9-05a31c7f4086')\"\n",
              "                title=\"Suggest charts\"\n",
              "                style=\"display:none;\">\n",
              "\n",
              "<svg xmlns=\"http://www.w3.org/2000/svg\" height=\"24px\"viewBox=\"0 0 24 24\"\n",
              "     width=\"24px\">\n",
              "    <g>\n",
              "        <path d=\"M19 3H5c-1.1 0-2 .9-2 2v14c0 1.1.9 2 2 2h14c1.1 0 2-.9 2-2V5c0-1.1-.9-2-2-2zM9 17H7v-7h2v7zm4 0h-2V7h2v10zm4 0h-2v-4h2v4z\"/>\n",
              "    </g>\n",
              "</svg>\n",
              "      </button>\n",
              "\n",
              "<style>\n",
              "  .colab-df-quickchart {\n",
              "      --bg-color: #E8F0FE;\n",
              "      --fill-color: #1967D2;\n",
              "      --hover-bg-color: #E2EBFA;\n",
              "      --hover-fill-color: #174EA6;\n",
              "      --disabled-fill-color: #AAA;\n",
              "      --disabled-bg-color: #DDD;\n",
              "  }\n",
              "\n",
              "  [theme=dark] .colab-df-quickchart {\n",
              "      --bg-color: #3B4455;\n",
              "      --fill-color: #D2E3FC;\n",
              "      --hover-bg-color: #434B5C;\n",
              "      --hover-fill-color: #FFFFFF;\n",
              "      --disabled-bg-color: #3B4455;\n",
              "      --disabled-fill-color: #666;\n",
              "  }\n",
              "\n",
              "  .colab-df-quickchart {\n",
              "    background-color: var(--bg-color);\n",
              "    border: none;\n",
              "    border-radius: 50%;\n",
              "    cursor: pointer;\n",
              "    display: none;\n",
              "    fill: var(--fill-color);\n",
              "    height: 32px;\n",
              "    padding: 0;\n",
              "    width: 32px;\n",
              "  }\n",
              "\n",
              "  .colab-df-quickchart:hover {\n",
              "    background-color: var(--hover-bg-color);\n",
              "    box-shadow: 0 1px 2px rgba(60, 64, 67, 0.3), 0 1px 3px 1px rgba(60, 64, 67, 0.15);\n",
              "    fill: var(--button-hover-fill-color);\n",
              "  }\n",
              "\n",
              "  .colab-df-quickchart-complete:disabled,\n",
              "  .colab-df-quickchart-complete:disabled:hover {\n",
              "    background-color: var(--disabled-bg-color);\n",
              "    fill: var(--disabled-fill-color);\n",
              "    box-shadow: none;\n",
              "  }\n",
              "\n",
              "  .colab-df-spinner {\n",
              "    border: 2px solid var(--fill-color);\n",
              "    border-color: transparent;\n",
              "    border-bottom-color: var(--fill-color);\n",
              "    animation:\n",
              "      spin 1s steps(1) infinite;\n",
              "  }\n",
              "\n",
              "  @keyframes spin {\n",
              "    0% {\n",
              "      border-color: transparent;\n",
              "      border-bottom-color: var(--fill-color);\n",
              "      border-left-color: var(--fill-color);\n",
              "    }\n",
              "    20% {\n",
              "      border-color: transparent;\n",
              "      border-left-color: var(--fill-color);\n",
              "      border-top-color: var(--fill-color);\n",
              "    }\n",
              "    30% {\n",
              "      border-color: transparent;\n",
              "      border-left-color: var(--fill-color);\n",
              "      border-top-color: var(--fill-color);\n",
              "      border-right-color: var(--fill-color);\n",
              "    }\n",
              "    40% {\n",
              "      border-color: transparent;\n",
              "      border-right-color: var(--fill-color);\n",
              "      border-top-color: var(--fill-color);\n",
              "    }\n",
              "    60% {\n",
              "      border-color: transparent;\n",
              "      border-right-color: var(--fill-color);\n",
              "    }\n",
              "    80% {\n",
              "      border-color: transparent;\n",
              "      border-right-color: var(--fill-color);\n",
              "      border-bottom-color: var(--fill-color);\n",
              "    }\n",
              "    90% {\n",
              "      border-color: transparent;\n",
              "      border-bottom-color: var(--fill-color);\n",
              "    }\n",
              "  }\n",
              "</style>\n",
              "\n",
              "      <script>\n",
              "        async function quickchart(key) {\n",
              "          const quickchartButtonEl =\n",
              "            document.querySelector('#' + key + ' button');\n",
              "          quickchartButtonEl.disabled = true;  // To prevent multiple clicks.\n",
              "          quickchartButtonEl.classList.add('colab-df-spinner');\n",
              "          try {\n",
              "            const charts = await google.colab.kernel.invokeFunction(\n",
              "                'suggestCharts', [key], {});\n",
              "          } catch (error) {\n",
              "            console.error('Error during call to suggestCharts:', error);\n",
              "          }\n",
              "          quickchartButtonEl.classList.remove('colab-df-spinner');\n",
              "          quickchartButtonEl.classList.add('colab-df-quickchart-complete');\n",
              "        }\n",
              "        (() => {\n",
              "          let quickchartButtonEl =\n",
              "            document.querySelector('#df-47d71bae-7251-4e13-bfb9-05a31c7f4086 button');\n",
              "          quickchartButtonEl.style.display =\n",
              "            google.colab.kernel.accessAllowed ? 'block' : 'none';\n",
              "        })();\n",
              "      </script>\n",
              "    </div>\n",
              "\n",
              "    </div>\n",
              "  </div>\n"
            ],
            "application/vnd.google.colaboratory.intrinsic+json": {
              "type": "dataframe",
              "variable_name": "df",
              "summary": "{\n  \"name\": \"df\",\n  \"rows\": 200,\n  \"fields\": [\n    {\n      \"column\": \"Age\",\n      \"properties\": {\n        \"dtype\": \"number\",\n        \"std\": 1.002509414234171,\n        \"min\": -1.49633547972731,\n        \"max\": 2.2355323833815683,\n        \"num_unique_values\": 51,\n        \"samples\": [\n          1.1590320382540074,\n          -0.922201962325944,\n          0.0107650034512755\n        ],\n        \"semantic_type\": \"\",\n        \"description\": \"\"\n      }\n    },\n    {\n      \"column\": \"Annual Income (k$)\",\n      \"properties\": {\n        \"dtype\": \"number\",\n        \"std\": 1.0025094142341713,\n        \"min\": -1.7389991930659483,\n        \"max\": 2.9176711658902788,\n        \"num_unique_values\": 64,\n        \"samples\": [\n          1.009199707301661,\n          1.543571715706474,\n          -1.7389991930659483\n        ],\n        \"semantic_type\": \"\",\n        \"description\": \"\"\n      }\n    },\n    {\n      \"column\": \"Spending Score (1-100)\",\n      \"properties\": {\n        \"dtype\": \"number\",\n        \"std\": 1.0025094142341715,\n        \"min\": -1.9100207870073287,\n        \"max\": 1.8944921627227165,\n        \"num_unique_values\": 84,\n        \"samples\": [\n          1.2733471913382193,\n          -0.4348014799691481,\n          0.8074884627998463\n        ],\n        \"semantic_type\": \"\",\n        \"description\": \"\"\n      }\n    },\n    {\n      \"column\": \"Gender\",\n      \"properties\": {\n        \"dtype\": \"number\",\n        \"std\": 0,\n        \"min\": 0,\n        \"max\": 1,\n        \"num_unique_values\": 2,\n        \"samples\": [\n          0,\n          1\n        ],\n        \"semantic_type\": \"\",\n        \"description\": \"\"\n      }\n    }\n  ]\n}"
            }
          },
          "metadata": {},
          "execution_count": 42
        }
      ]
    },
    {
      "cell_type": "code",
      "source": [
        "X = df\n",
        "X = np.array(X)"
      ],
      "metadata": {
        "id": "DIb8C0z2ThLe"
      },
      "execution_count": null,
      "outputs": []
    },
    {
      "cell_type": "markdown",
      "source": [
        "**Runing 30 times with Different Random seeds**"
      ],
      "metadata": {
        "id": "BcrSHGSRkZyq"
      }
    },
    {
      "cell_type": "code",
      "source": [
        "interia = {1:[],2:[],3:[],4:[],5:[],6:[],7:[],8:[],9:[],10:[]}\n",
        "sil_score = {1:[],2:[],3:[],4:[],5:[],6:[],7:[],8:[],9:[],10:[]}\n",
        "sa_ch_score = {1:[],2:[],3:[],4:[],5:[],6:[],7:[],8:[],9:[],10:[]}"
      ],
      "metadata": {
        "id": "A4g9KzOIW0kR"
      },
      "execution_count": null,
      "outputs": []
    },
    {
      "cell_type": "code",
      "source": [
        "seeds= list(range(1,31))\n",
        "\n",
        "for k in range(2,11,1):\n",
        "  for i in range(30) :\n",
        "        best_centroids, best_sse, predicted_labels = sa_pso_gkpp(\n",
        "                        X,\n",
        "                        K=k,\n",
        "                        N=10,\n",
        "                        max_iterations=100,\n",
        "                        w_max=0.9,\n",
        "                        w_min=0.5,\n",
        "                        c1=1.49,\n",
        "                        c2=1.49,\n",
        "                        T=100,\n",
        "                        alpha=0.95,\n",
        "                        seed=seeds[i]\n",
        "                    )\n",
        "        # Evaluate the result\n",
        "        interia[k].append(best_sse)\n",
        "        sil_score[k].append(silhouette_score(X, predicted_labels))\n",
        "        sa_ch_score[k].append(calinski_harabasz_score(X, predicted_labels))\n"
      ],
      "metadata": {
        "id": "9aD3h160R1tN"
      },
      "execution_count": null,
      "outputs": []
    },
    {
      "cell_type": "markdown",
      "source": [
        "**Ploting inertia (SSE) over different number of clusters**"
      ],
      "metadata": {
        "id": "Gf_nYfeokuyr"
      }
    },
    {
      "cell_type": "code",
      "source": [
        "import matplotlib.pyplot as plt\n",
        "from sklearn.cluster import KMeans\n",
        "import numpy as np\n",
        "\n",
        "\n",
        "inertias = []\n",
        "K_range = range(2, 11)  # Try K from 1 to 10\n",
        "\n",
        "for k in K_range:\n",
        "    inertias.append(np.mean(interia[k]))\n",
        "\n",
        "# Plotting\n",
        "plt.figure(figsize=(8, 5))\n",
        "plt.plot(K_range, inertias, marker='o')\n",
        "plt.title('Elbow Method for Optimal K')\n",
        "plt.xlabel('Number of Clusters (k)')\n",
        "plt.ylabel('Inertia (Within-cluster SSE)')\n",
        "plt.grid(True)\n",
        "plt.show()\n"
      ],
      "metadata": {
        "colab": {
          "base_uri": "https://localhost:8080/",
          "height": 487
        },
        "id": "UBS4nKToWbs2",
        "outputId": "4e5b5f2d-0c96-4f25-89d3-f10f49acbfc1"
      },
      "execution_count": null,
      "outputs": [
        {
          "output_type": "display_data",
          "data": {
            "text/plain": [
              "<Figure size 800x500 with 1 Axes>"
            ],
            "image/png": "[encoded data removed]"
          },
          "metadata": {}
        }
      ]
    },
    {
      "cell_type": "markdown",
      "source": [
        "**Saving Scores**"
      ],
      "metadata": {
        "id": "NYma3C6ek3K6"
      }
    },
    {
      "cell_type": "code",
      "source": [
        "import json\n",
        "\n",
        "\n",
        "# Combine into one dict\n",
        "results = {\n",
        "    \"inertia\": interia,\n",
        "    \"silhouette_score\": sil_score,\n",
        "    \"calinski_harabasz_score\": sa_ch_score,\n",
        "    \"inertias\": inertias\n",
        "\n",
        "}\n",
        "\n",
        "# Save to JSON file\n",
        "with open(\"clustering_scores.json\", \"w\") as f:\n",
        "    json.dump(results, f, indent=4)"
      ],
      "metadata": {
        "id": "hmkHEWUMWnOa"
      },
      "execution_count": null,
      "outputs": []
    }
  ]
}
